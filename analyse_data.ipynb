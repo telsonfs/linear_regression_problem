{
 "metadata": {
  "language_info": {
   "codemirror_mode": {
    "name": "ipython",
    "version": 3
   },
   "file_extension": ".py",
   "mimetype": "text/x-python",
   "name": "python",
   "nbconvert_exporter": "python",
   "pygments_lexer": "ipython3",
   "version": "3.8.5-final"
  },
  "orig_nbformat": 2,
  "kernelspec": {
   "name": "python38564bitbuserac610d6944494e048b17cae9f7596e27",
   "display_name": "Python 3.8.5 64-bit ('buser')"
  }
 },
 "nbformat": 4,
 "nbformat_minor": 2,
 "cells": [
  {
   "cell_type": "code",
   "execution_count": 1,
   "metadata": {},
   "outputs": [],
   "source": [
    "import pandas as pd\n",
    "\n",
    "\n",
    "from src.preprocessing import Preprocessing\n",
    "from src.visualization import Visualization\n",
    "from src.experiments import Experiments"
   ]
  },
  {
   "cell_type": "code",
   "execution_count": 2,
   "metadata": {},
   "outputs": [
    {
     "output_type": "execute_result",
     "data": {
      "text/plain": [
       "    cidade_1        cidade_2  distancia   duracao alcance influencia  \\\n",
       "0  São Paulo  Rio de Janeiro        440  06:30:00      IE         MM   \n",
       "1  São Paulo  Belo Horizonte        600  09:20:00      IE         MM   \n",
       "2  São Paulo        Brasília       1105  18:20:00      IE         MM   \n",
       "3  São Paulo         Goiânia        900  15:00:00      IE         MM   \n",
       "4  São Paulo   Florianópolis        700  10:30:00      IE         MR   \n",
       "\n",
       "   populacao         pib    renda  idhm  ...  ext_mineral  servicos  siup  \\\n",
       "0   18970926  1036882814  1504.42  0.80  ...         0.47     59.50  0.87   \n",
       "1   14764093   788239520  1506.75  0.81  ...         0.36     58.17  0.85   \n",
       "2   15267291   943971108  1615.66  0.81  ...         0.07     59.78  0.81   \n",
       "3   13768136   748311494  1432.38  0.80  ...         0.09     53.95  0.86   \n",
       "4   12752996   718800871  1657.17  8.30  ...         0.09     61.88  1.19   \n",
       "\n",
       "   ind_transformacao  func_publicos  hor_mad  hor_man  hor_tar  hor_noi  \\\n",
       "0               8.84           5.17        2        7        5       12   \n",
       "1              10.26           5.01        0        5        2        8   \n",
       "2               7.81           8.59        0        4        6        8   \n",
       "3              12.34           5.75        1        3        9        5   \n",
       "4               7.96           6.94        0        4        0        8   \n",
       "\n",
       "   hor_total  \n",
       "0         26  \n",
       "1         15  \n",
       "2         18  \n",
       "3         18  \n",
       "4         12  \n",
       "\n",
       "[5 rows x 38 columns]"
      ],
      "text/html": "<div>\n<style scoped>\n    .dataframe tbody tr th:only-of-type {\n        vertical-align: middle;\n    }\n\n    .dataframe tbody tr th {\n        vertical-align: top;\n    }\n\n    .dataframe thead th {\n        text-align: right;\n    }\n</style>\n<table border=\"1\" class=\"dataframe\">\n  <thead>\n    <tr style=\"text-align: right;\">\n      <th></th>\n      <th>cidade_1</th>\n      <th>cidade_2</th>\n      <th>distancia</th>\n      <th>duracao</th>\n      <th>alcance</th>\n      <th>influencia</th>\n      <th>populacao</th>\n      <th>pib</th>\n      <th>renda</th>\n      <th>idhm</th>\n      <th>...</th>\n      <th>ext_mineral</th>\n      <th>servicos</th>\n      <th>siup</th>\n      <th>ind_transformacao</th>\n      <th>func_publicos</th>\n      <th>hor_mad</th>\n      <th>hor_man</th>\n      <th>hor_tar</th>\n      <th>hor_noi</th>\n      <th>hor_total</th>\n    </tr>\n  </thead>\n  <tbody>\n    <tr>\n      <th>0</th>\n      <td>São Paulo</td>\n      <td>Rio de Janeiro</td>\n      <td>440</td>\n      <td>06:30:00</td>\n      <td>IE</td>\n      <td>MM</td>\n      <td>18970926</td>\n      <td>1036882814</td>\n      <td>1504.42</td>\n      <td>0.80</td>\n      <td>...</td>\n      <td>0.47</td>\n      <td>59.50</td>\n      <td>0.87</td>\n      <td>8.84</td>\n      <td>5.17</td>\n      <td>2</td>\n      <td>7</td>\n      <td>5</td>\n      <td>12</td>\n      <td>26</td>\n    </tr>\n    <tr>\n      <th>1</th>\n      <td>São Paulo</td>\n      <td>Belo Horizonte</td>\n      <td>600</td>\n      <td>09:20:00</td>\n      <td>IE</td>\n      <td>MM</td>\n      <td>14764093</td>\n      <td>788239520</td>\n      <td>1506.75</td>\n      <td>0.81</td>\n      <td>...</td>\n      <td>0.36</td>\n      <td>58.17</td>\n      <td>0.85</td>\n      <td>10.26</td>\n      <td>5.01</td>\n      <td>0</td>\n      <td>5</td>\n      <td>2</td>\n      <td>8</td>\n      <td>15</td>\n    </tr>\n    <tr>\n      <th>2</th>\n      <td>São Paulo</td>\n      <td>Brasília</td>\n      <td>1105</td>\n      <td>18:20:00</td>\n      <td>IE</td>\n      <td>MM</td>\n      <td>15267291</td>\n      <td>943971108</td>\n      <td>1615.66</td>\n      <td>0.81</td>\n      <td>...</td>\n      <td>0.07</td>\n      <td>59.78</td>\n      <td>0.81</td>\n      <td>7.81</td>\n      <td>8.59</td>\n      <td>0</td>\n      <td>4</td>\n      <td>6</td>\n      <td>8</td>\n      <td>18</td>\n    </tr>\n    <tr>\n      <th>3</th>\n      <td>São Paulo</td>\n      <td>Goiânia</td>\n      <td>900</td>\n      <td>15:00:00</td>\n      <td>IE</td>\n      <td>MM</td>\n      <td>13768136</td>\n      <td>748311494</td>\n      <td>1432.38</td>\n      <td>0.80</td>\n      <td>...</td>\n      <td>0.09</td>\n      <td>53.95</td>\n      <td>0.86</td>\n      <td>12.34</td>\n      <td>5.75</td>\n      <td>1</td>\n      <td>3</td>\n      <td>9</td>\n      <td>5</td>\n      <td>18</td>\n    </tr>\n    <tr>\n      <th>4</th>\n      <td>São Paulo</td>\n      <td>Florianópolis</td>\n      <td>700</td>\n      <td>10:30:00</td>\n      <td>IE</td>\n      <td>MR</td>\n      <td>12752996</td>\n      <td>718800871</td>\n      <td>1657.17</td>\n      <td>8.30</td>\n      <td>...</td>\n      <td>0.09</td>\n      <td>61.88</td>\n      <td>1.19</td>\n      <td>7.96</td>\n      <td>6.94</td>\n      <td>0</td>\n      <td>4</td>\n      <td>0</td>\n      <td>8</td>\n      <td>12</td>\n    </tr>\n  </tbody>\n</table>\n<p>5 rows × 38 columns</p>\n</div>"
     },
     "metadata": {},
     "execution_count": 2
    }
   ],
   "source": [
    "df = pd.read_excel('data/dataset_case_1811.xlsx')\n",
    "df.head()"
   ]
  },
  {
   "cell_type": "code",
   "execution_count": 3,
   "metadata": {},
   "outputs": [
    {
     "output_type": "stream",
     "name": "stdout",
     "text": [
      "<class 'pandas.core.frame.DataFrame'>\nRangeIndex: 143 entries, 0 to 142\nData columns (total 38 columns):\n #   Column             Non-Null Count  Dtype  \n---  ------             --------------  -----  \n 0   cidade_1           143 non-null    object \n 1   cidade_2           143 non-null    object \n 2   distancia          143 non-null    int64  \n 3   duracao            143 non-null    object \n 4   alcance            141 non-null    object \n 5   influencia         143 non-null    object \n 6   populacao          143 non-null    int64  \n 7   pib                143 non-null    int64  \n 8   renda              143 non-null    float64\n 9   idhm               143 non-null    float64\n 10  urbano             143 non-null    float64\n 11  envelhecimento     143 non-null    float64\n 12  esp_vida           143 non-null    float64\n 13  dependencia        143 non-null    float64\n 14  freq_superior      143 non-null    float64\n 15  sup_completo       143 non-null    float64\n 16  pop15_24           143 non-null    float64\n 17  pop25_34           143 non-null    float64\n 18  pop35_44           143 non-null    float64\n 19  pop45_54           143 non-null    float64\n 20  pop55_64           143 non-null    float64\n 21  mulheres           141 non-null    float64\n 22  desigualdade       143 non-null    float64\n 23  autonomos          143 non-null    float64\n 24  empregadores       143 non-null    float64\n 25  agropecuaria       143 non-null    float64\n 26  comercio           143 non-null    float64\n 27  construcao         143 non-null    float64\n 28  ext_mineral        143 non-null    float64\n 29  servicos           143 non-null    float64\n 30  siup               143 non-null    float64\n 31  ind_transformacao  143 non-null    float64\n 32  func_publicos      143 non-null    float64\n 33  hor_mad            143 non-null    int64  \n 34  hor_man            143 non-null    int64  \n 35  hor_tar            143 non-null    int64  \n 36  hor_noi            143 non-null    int64  \n 37  hor_total          143 non-null    int64  \ndtypes: float64(25), int64(8), object(5)\nmemory usage: 42.6+ KB\n"
     ]
    },
    {
     "output_type": "execute_result",
     "data": {
      "text/plain": [
       "{'shape': (143, 38),\n",
       " 'describe':          distancia     populacao           pib        renda        idhm  \\\n",
       " count   143.000000  1.430000e+02  1.430000e+02   143.000000  143.000000   \n",
       " mean    448.839161  5.988950e+06  3.152888e+08  1235.852168    0.891469   \n",
       " std     239.283044  5.165966e+06  3.062804e+08   204.282761    0.850592   \n",
       " min      88.000000  4.384540e+05  1.604788e+07   723.320000    0.740000   \n",
       " 25%     259.500000  1.632562e+06  6.730295e+07  1095.350000    0.780000   \n",
       " 50%     428.000000  3.080943e+06  1.072350e+08  1230.110000    0.790000   \n",
       " 75%     578.000000  1.231006e+07  7.012290e+08  1348.860000    0.810000   \n",
       " max    1464.000000  1.897093e+07  1.036883e+09  1778.200000    8.300000   \n",
       " \n",
       "            urbano  envelhecimento    esp_vida  dependencia  freq_superior  \\\n",
       " count  143.000000      143.000000  143.000000   143.000000     143.000000   \n",
       " mean    93.668601        8.059371   76.201958    40.279720      45.814545   \n",
       " std      4.256755        1.193415    0.784592     1.953199       7.309046   \n",
       " min     73.240000        4.350000   74.030000    34.810000      33.070000   \n",
       " 25%     91.900000        7.365000   75.770000    38.880000      41.045000   \n",
       " 50%     95.090000        8.250000   76.220000    40.250000      45.490000   \n",
       " 75%     96.375000        8.840000   76.775000    41.325000      50.690000   \n",
       " max     98.340000       12.260000   78.390000    47.680000      68.840000   \n",
       " \n",
       "        ...  ext_mineral    servicos        siup  ind_transformacao  \\\n",
       " count  ...   143.000000  143.000000  143.000000         143.000000   \n",
       " mean   ...     0.384056   52.704615    1.013636          11.490909   \n",
       " std    ...     0.485946    4.453250    0.250516           3.529247   \n",
       " min    ...     0.030000   37.570000    0.600000           3.990000   \n",
       " 25%    ...     0.090000   50.260000    0.865000           9.140000   \n",
       " 50%    ...     0.220000   52.840000    0.990000          11.270000   \n",
       " 75%    ...     0.450000   55.075000    1.095000          13.050000   \n",
       " max    ...     3.490000   64.860000    2.440000          23.410000   \n",
       " \n",
       "        func_publicos     hor_mad     hor_man     hor_tar     hor_noi  \\\n",
       " count     143.000000  143.000000  143.000000  143.000000  143.000000   \n",
       " mean        5.900629    0.573427    2.384615    2.265734    2.958042   \n",
       " std         2.037146    1.090868    3.562170    3.640444    3.048607   \n",
       " min         2.230000    0.000000    0.000000    0.000000    0.000000   \n",
       " 25%         4.460000    0.000000    0.500000    0.000000    1.000000   \n",
       " 50%         5.580000    0.000000    2.000000    1.000000    2.000000   \n",
       " 75%         7.365000    1.000000    3.000000    3.000000    4.500000   \n",
       " max        11.890000    6.000000   28.000000   28.000000   18.000000   \n",
       " \n",
       "         hor_total  \n",
       " count  143.000000  \n",
       " mean     8.181818  \n",
       " std      9.540600  \n",
       " min      0.000000  \n",
       " 25%      3.000000  \n",
       " 50%      5.000000  \n",
       " 75%     10.000000  \n",
       " max     77.000000  \n",
       " \n",
       " [8 rows x 33 columns],\n",
       " 'info': None,\n",
       " 'types': cidade_1              object\n",
       " cidade_2              object\n",
       " distancia              int64\n",
       " duracao               object\n",
       " alcance               object\n",
       " influencia            object\n",
       " populacao              int64\n",
       " pib                    int64\n",
       " renda                float64\n",
       " idhm                 float64\n",
       " urbano               float64\n",
       " envelhecimento       float64\n",
       " esp_vida             float64\n",
       " dependencia          float64\n",
       " freq_superior        float64\n",
       " sup_completo         float64\n",
       " pop15_24             float64\n",
       " pop25_34             float64\n",
       " pop35_44             float64\n",
       " pop45_54             float64\n",
       " pop55_64             float64\n",
       " mulheres             float64\n",
       " desigualdade         float64\n",
       " autonomos            float64\n",
       " empregadores         float64\n",
       " agropecuaria         float64\n",
       " comercio             float64\n",
       " construcao           float64\n",
       " ext_mineral          float64\n",
       " servicos             float64\n",
       " siup                 float64\n",
       " ind_transformacao    float64\n",
       " func_publicos        float64\n",
       " hor_mad                int64\n",
       " hor_man                int64\n",
       " hor_tar                int64\n",
       " hor_noi                int64\n",
       " hor_total              int64\n",
       " dtype: object}"
      ]
     },
     "metadata": {},
     "execution_count": 3
    }
   ],
   "source": [
    "#Obtendo informações do dataset\n",
    "\n",
    "Preprocessing.data_info(df)"
   ]
  },
  {
   "cell_type": "code",
   "execution_count": 4,
   "metadata": {},
   "outputs": [],
   "source": [
    "#Selecionando apenas as features numéricas\n",
    "\n",
    "df_numeric = df.select_dtypes(include=['float64', 'int64'])"
   ]
  },
  {
   "cell_type": "code",
   "execution_count": 12,
   "metadata": {},
   "outputs": [],
   "source": [
    "#Criando um dataset para cada horário, pois para cada horário existe uma variação na correlação\n",
    "df_mad = df_numeric.drop(['hor_total', 'hor_noi', 'hor_tar', 'hor_man'], axis=1)\n",
    "df_man = df_numeric.drop(['hor_total', 'hor_noi', 'hor_tar', 'hor_mad'], axis=1)\n",
    "df_tar = df_numeric.drop(['hor_total', 'hor_noi', 'hor_mad', 'hor_man'], axis=1)\n",
    "df_noi = df_numeric.drop(['hor_total', 'hor_mad', 'hor_tar', 'hor_man'], axis=1)\n",
    "\n",
    "df_mad.to_csv('data/train_mad.csv', sep = '\\t')\n",
    "df_man.to_csv('data/train_man.csv', sep = '\\t')\n",
    "df_tar.to_csv('data/train_tar.csv', sep = '\\t')\n",
    "df_noi.to_csv('data/train_noi.csv', sep = '\\t')\n",
    "\n"
   ]
  }
 ]
}